{
  "nbformat": 4,
  "nbformat_minor": 0,
  "metadata": {
    "colab": {
      "name": "Cópia de Lista 1",
      "provenance": [],
      "collapsed_sections": [],
      "include_colab_link": true
    },
    "kernelspec": {
      "name": "python3",
      "display_name": "Python 3"
    },
    "language_info": {
      "name": "python"
    }
  },
  "cells": [
    {
      "cell_type": "markdown",
      "metadata": {
        "id": "view-in-github",
        "colab_type": "text"
      },
      "source": [
        "<a href=\"https://colab.research.google.com/github/Jovanez/flask/blob/master/C%C3%B3pia_de_Lista_1.ipynb\" target=\"_parent\"><img src=\"https://colab.research.google.com/assets/colab-badge.svg\" alt=\"Open In Colab\"/></a>"
      ]
    },
    {
      "cell_type": "markdown",
      "metadata": {
        "id": "i4nzT8Hk2y6j"
      },
      "source": [
        "#Lista 1: Um pouco mais sobre CDFs..."
      ]
    },
    {
      "cell_type": "markdown",
      "metadata": {
        "id": "fOJUqPvI6WH2"
      },
      "source": [
        "## Forma de entrega"
      ]
    },
    {
      "cell_type": "markdown",
      "metadata": {
        "id": "o8jhiXIp7HqR"
      },
      "source": [
        "Salve essa página (com código e respostas geradas) em ``.pdf`` e submeta o documento na atividade do AVA (apenas um integrante do grupo deve fazer a submissão)."
      ]
    },
    {
      "cell_type": "markdown",
      "metadata": {
        "id": "8U9gFifd7HMT"
      },
      "source": [
        "## Grupos"
      ]
    },
    {
      "cell_type": "markdown",
      "metadata": {
        "id": "UxcS3w0_7Ggi"
      },
      "source": [
        "* **Graduação:** grupo de até 3 pessoas\n",
        "* **Pós-Graduação:** individual"
      ]
    },
    {
      "cell_type": "markdown",
      "metadata": {
        "id": "qqe5ZBWT2b-X"
      },
      "source": [
        "## Integrantes do grupo"
      ]
    },
    {
      "cell_type": "markdown",
      "metadata": {
        "id": "OqwCQmTe2RGv"
      },
      "source": [
        "1. **Nome(s):**\n",
        "\n",
        "2. **Matrícula(s):**\n",
        "\n",
        "3. **Curso(s):**\n",
        "\n",
        "4. **Link do seu Colab com suas soluções (para que o professor possa acessar e rodar o código):**"
      ]
    },
    {
      "cell_type": "markdown",
      "metadata": {
        "id": "_PiKrsM42n45"
      },
      "source": [
        "## Questão 1"
      ]
    },
    {
      "cell_type": "markdown",
      "metadata": {
        "id": "5X1x_nS12XyJ"
      },
      "source": [
        "O objetivo desta questão é comparar as **Funções de Distribuição** (i.e., CDF) teórica e empírica de algumas distribuições contínuas bem conhecidas.\n",
        "\n",
        "Lembre-se que nós conversamos um pouco sobre CDFs na Aula 3."
      ]
    },
    {
      "cell_type": "markdown",
      "metadata": {
        "id": "yz9DsadyYzsg"
      },
      "source": [
        "### Exemplo"
      ]
    },
    {
      "cell_type": "markdown",
      "metadata": {
        "id": "BvWWEIi52cD4"
      },
      "source": [
        "Vamos começar com um exemplo sobre a distribuição Uniforme contínua.\n",
        "\n",
        "A biblioteca ``scipy`` possui funcionalidades para gerar números pseudo-aleatórios e para computar valores da CDF teórica da distribuição. Leia mais sobre em https://docs.scipy.org/doc/scipy/reference/generated/scipy.stats.uniform.html.\n",
        "\n",
        "A biblioteca ``statsmodels`` possui funcionalidades para computar a CDF empírica de um conjunto de observações."
      ]
    },
    {
      "cell_type": "code",
      "metadata": {
        "id": "tdmVdYNB2bPg",
        "colab": {
          "base_uri": "https://localhost:8080/"
        },
        "outputId": "ceb572d0-f74a-4b77-f205-9939bbcec762"
      },
      "source": [
        "from scipy.stats import uniform\n",
        "import matplotlib.pyplot as plt\n",
        "from statsmodels.distributions.empirical_distribution import ECDF"
      ],
      "execution_count": null,
      "outputs": [
        {
          "output_type": "stream",
          "name": "stderr",
          "text": [
            "/usr/local/lib/python3.7/dist-packages/statsmodels/tools/_testing.py:19: FutureWarning: pandas.util.testing is deprecated. Use the functions in the public API at pandas.testing instead.\n",
            "  import pandas.util.testing as tm\n"
          ]
        }
      ]
    },
    {
      "cell_type": "code",
      "metadata": {
        "id": "Vl9S2x2X5meG"
      },
      "source": [
        "def plot_uniform_cdf(loc, scale, n):\n",
        "  # gera 'n' números de uma distribuição uniforme contínua no \n",
        "  # intervalo [loc, loc + scale]\n",
        "  r = uniform.rvs(loc = loc, scale = scale, size = n)\n",
        "\n",
        "  # plota a CDF empírica dos números gerados\n",
        "  cdf = ECDF(r)\n",
        "  plt.plot(cdf.x, cdf.y, linewidth = 3, alpha = 0.5, color = 'blue', \n",
        "           label = 'Empírica')\n",
        "\n",
        "  # plota a CDF teórica de uma distribuição contínua uniforme no intervalo \n",
        "  # [loc, loc + scale]\n",
        "  plt.plot(cdf.x, uniform.cdf(cdf.x, loc = loc, scale = scale), \n",
        "           alpha = 0.5, label = 'Teórica', color = 'red', \n",
        "           linewidth = 3, zorder = 0);\n",
        "\n",
        "  # Ajustes de rótulos e tamanho da figura...\n",
        "  plt.legend(loc = 'best');\n",
        "  plt.xlabel(r'$x$');\n",
        "  plt.ylabel(r'CDF');\n",
        "  plt.gcf().set_size_inches(3.5, 3.5)"
      ],
      "execution_count": null,
      "outputs": []
    },
    {
      "cell_type": "code",
      "metadata": {
        "colab": {
          "base_uri": "https://localhost:8080/"
        },
        "id": "FdsX48Al5rBZ",
        "outputId": "a3418380-3f1c-4a85-edaa-e073851e0e7b"
      },
      "source": [
        "plot_uniform_cdf(5, 5, 1000)"
      ],
      "execution_count": null,
      "outputs": [
        {
          "output_type": "display_data",
          "data": {
            "image/png": "[encoded data removed]",
            "text/plain": [
              "<Figure size 252x252 with 1 Axes>"
            ]
          },
          "metadata": {
            "needs_background": "light"
          }
        }
      ]
    },
    {
      "cell_type": "code",
      "metadata": {
        "colab": {
          "base_uri": "https://localhost:8080/"
        },
        "id": "L3uO3uXD51bP",
        "outputId": "2629ef7f-9e62-4677-b4a0-2c16fe6e7b80"
      },
      "source": [
        "plot_uniform_cdf(0, 1, 1000)"
      ],
      "execution_count": null,
      "outputs": [
        {
          "output_type": "display_data",
          "data": {
            "image/png": "[encoded data removed]",
            "text/plain": [
              "<Figure size 252x252 with 1 Axes>"
            ]
          },
          "metadata": {
            "needs_background": "light"
          }
        }
      ]
    },
    {
      "cell_type": "markdown",
      "metadata": {
        "id": "8cGPK8rGY4tn"
      },
      "source": [
        "### Parte (*a*)"
      ]
    },
    {
      "cell_type": "markdown",
      "metadata": {
        "id": "XjU8ziH83G4W"
      },
      "source": [
        "Repita a análise acima para a distribuição normal. Lembre-se que a distribuição normal possui dois parâmetros: $\\mu$ e $\\sigma$.\n",
        "\n",
        "Consulte https://docs.scipy.org/doc/scipy/reference/generated/scipy.stats.norm.html para gerar números pseudo-aleatórios e para computar a CDF da distribuição normal.\n",
        "\n",
        "Você deve:\n",
        "1. Completar a função abaixo para gerar gráficos comparativos entre as CDFs empírica e teórica da distribuição normal;\n",
        "2. Executar seu código, variando os parâmetros da distribuição e número de elementos gerados."
      ]
    },
    {
      "cell_type": "code",
      "metadata": {
        "id": "8SWZ5Loa3K20"
      },
      "source": [
        "from scipy.stats import norm"
      ],
      "execution_count": null,
      "outputs": []
    },
    {
      "cell_type": "code",
      "metadata": {
        "id": "kEpo2eoLZDt6"
      },
      "source": [
        "def plot_normal_cdf(mu, sigma, n):\n",
        "  #TODO\n",
        "  pass"
      ],
      "execution_count": null,
      "outputs": []
    },
    {
      "cell_type": "code",
      "metadata": {
        "id": "qmemWJcX3bZx"
      },
      "source": [
        "plot_normal_cdf(0, 1, 100)"
      ],
      "execution_count": null,
      "outputs": []
    },
    {
      "cell_type": "code",
      "metadata": {
        "id": "r8e5iL0c3YAc"
      },
      "source": [
        "plot_normal_cdf(0, 1, 1000)"
      ],
      "execution_count": null,
      "outputs": []
    },
    {
      "cell_type": "code",
      "metadata": {
        "id": "zF3JqS13ZPw7"
      },
      "source": [
        "plot_normal_cdf(5, 5, 1000)"
      ],
      "execution_count": null,
      "outputs": []
    },
    {
      "cell_type": "markdown",
      "metadata": {
        "id": "7ZoVQe2-Znv3"
      },
      "source": [
        "### Parte (*b*)"
      ]
    },
    {
      "cell_type": "markdown",
      "metadata": {
        "id": "inb8XUGN30PB"
      },
      "source": [
        "Repita a análise inicial para a distribuição exponencial. Lembre-se, dado um parâmetro $\\lambda > 0$, a densidade da distribuição exponencial é:\n",
        "$$f(x) = \\lambda e^{-\\lambda x}\\text{, } x > 0.$$\n",
        "\n",
        "Consulte https://docs.scipy.org/doc/scipy/reference/generated/scipy.stats.expon.html para gerar números pseudo-aleatórios e para computar a CDF da distribuição exponencial.\n",
        "\n",
        "Você deve:\n",
        "1. Completar a função abaixo para gerar gráficos comparativos entre as CDFs empírica e teórica da distribuição exponencial;\n",
        "2. Executar seu código, variando os parâmetros da distribuição e número de elementos gerados."
      ]
    },
    {
      "cell_type": "code",
      "metadata": {
        "id": "3ARZzm2t3mDK"
      },
      "source": [
        "from scipy.stats import expon"
      ],
      "execution_count": null,
      "outputs": []
    },
    {
      "cell_type": "code",
      "metadata": {
        "id": "xUhhmOCUZT4p"
      },
      "source": [
        "def plot_exponential_cdf(lambda_, n):\n",
        "  # TODO\n",
        "  pass"
      ],
      "execution_count": null,
      "outputs": []
    },
    {
      "cell_type": "code",
      "metadata": {
        "id": "f23sX66yahK5"
      },
      "source": [
        "plot_exponential_cdf(1, 100)"
      ],
      "execution_count": null,
      "outputs": []
    },
    {
      "cell_type": "code",
      "metadata": {
        "id": "K5DOQJNopiJC"
      },
      "source": [
        "plot_exponential_cdf(5, 1000)\n",
        "  "
      ],
      "execution_count": null,
      "outputs": []
    },
    {
      "cell_type": "markdown",
      "metadata": {
        "id": "IcItHjGuam9M"
      },
      "source": [
        "### Parte (*c*)"
      ]
    },
    {
      "cell_type": "markdown",
      "metadata": {
        "id": "NA3lSr694Jxa"
      },
      "source": [
        "Agora as coisas ficam mais interessantes...\n",
        "\n",
        "Repita a análise inicial para a distribuição de pareto. Lembre-se, dado um parâmetro $b > 0$, a densidade da distribuição de pareto é:\n",
        "$$f(x) = \\frac{b}{x^{b+1}}\\text{, } x \\ge 1.$$\n",
        "\n",
        "Consulte https://docs.scipy.org/doc/scipy/tutorial/stats/continuous_pareto.html para gerar números pseudo-aleatórios e para computar a CDF da distribuição de pareto.\n",
        "\n",
        "Você deve:\n",
        "1. Completar a função abaixo para gerar gráficos comparativos entre as CDFs empírica e teórica da distribuição de pareto;\n",
        "2. Executar seu código, variando os parâmetros da distribuição e número de elementos gerados."
      ]
    },
    {
      "cell_type": "code",
      "metadata": {
        "id": "LRPdecOGajYf"
      },
      "source": [
        "from scipy.stats import pareto"
      ],
      "execution_count": null,
      "outputs": []
    },
    {
      "cell_type": "code",
      "metadata": {
        "id": "JCls5wzZ4VXs"
      },
      "source": [
        "def plot_pareto_cdf(b, n):\n",
        "  # TODO\n",
        "  pass"
      ],
      "execution_count": null,
      "outputs": []
    },
    {
      "cell_type": "code",
      "metadata": {
        "id": "x5elNRYxbYiR"
      },
      "source": [
        "plot_pareto_cdf(3, 100)"
      ],
      "execution_count": null,
      "outputs": []
    },
    {
      "cell_type": "code",
      "metadata": {
        "id": "Vt3mOjOxbcwQ"
      },
      "source": [
        "plot_pareto_cdf(2, 1000)"
      ],
      "execution_count": null,
      "outputs": []
    },
    {
      "cell_type": "code",
      "metadata": {
        "id": "wL1tF4gNbm1Q"
      },
      "source": [
        "plot_pareto_cdf(1, 1000)"
      ],
      "execution_count": null,
      "outputs": []
    },
    {
      "cell_type": "code",
      "metadata": {
        "id": "OvCjutyVqzRN"
      },
      "source": [
        "plot_pareto_cdf(0.5, 1000)"
      ],
      "execution_count": null,
      "outputs": []
    },
    {
      "cell_type": "markdown",
      "metadata": {
        "id": "Exa5GmKLq50Z"
      },
      "source": [
        "Após fazer as figuras, você provavelmente observou que para valores pequenos de $b$, a CDF da distribuição de pareto é bastante difícil de ler, uma vez fica praticamente \"colada\" às retas $x = 0$ e $y = 1$.\n",
        "\n",
        "Esse fenômeno ocorre porque, quando $b$ é pequeno, valores muito grandes (i.e., discrepantes ou *outliers*) têm uma probabilidade não negligível de ocorrerem.\n",
        "\n",
        "Quando observamos o comportamento das figuras acima, devemos modificar o forma de visualizar a distribuição:\n",
        "1. Devemos gerar uma figura para a CCDF (*Complementary Cumulative Distribution Function*). A CCDF de um valor $x$ é definida como 1 menos a CDF de $x$.\n",
        "2. Devemos colocar os eixos $x$ e $y$ em escala logarítmica.\n",
        "\n",
        "Complete a função abaixo para gerar a figura da forma descrita acima e gere os gráficos para os mesmos casos que testou anteriormente."
      ]
    },
    {
      "cell_type": "code",
      "metadata": {
        "id": "zGM1Bp-iZy7c"
      },
      "source": [
        "def plot_pareto_ccdf(b, n):\n",
        "  #TODO\n",
        "  pass"
      ],
      "execution_count": null,
      "outputs": []
    },
    {
      "cell_type": "code",
      "metadata": {
        "id": "RJwByMhNcCEH"
      },
      "source": [
        "plot_pareto_ccdf(3, 1000)"
      ],
      "execution_count": null,
      "outputs": []
    },
    {
      "cell_type": "code",
      "metadata": {
        "id": "2G0KmOl_yFm8"
      },
      "source": [
        "plot_pareto_ccdf(2, 1000)"
      ],
      "execution_count": null,
      "outputs": []
    },
    {
      "cell_type": "code",
      "metadata": {
        "id": "k7CHH5ptyHmj"
      },
      "source": [
        "plot_pareto_ccdf(1, 1000)"
      ],
      "execution_count": null,
      "outputs": []
    },
    {
      "cell_type": "code",
      "metadata": {
        "id": "viJWJaQ3yKLd"
      },
      "source": [
        "plot_pareto_ccdf(0.5, 1000)"
      ],
      "execution_count": null,
      "outputs": []
    },
    {
      "cell_type": "markdown",
      "metadata": {
        "id": "QodJRKpTi5ut"
      },
      "source": [
        "## Questão 2\n",
        "\n",
        "Esta questão é **obrigatória** apenas para alunos da **pós-graduação** e, neste caso, vale 50% da nota.\n",
        "\n",
        "O objetivo desta questão é entender o comportamento da **parte (*c*)** da questão anterior.\n",
        "\n",
        "Você deve ler as duas primeiras seções do artigo https://arxiv.org/pdf/cond-mat/0412004.pdf e fazer um resumo (de no máximo uma página). Certifique-se de incluir no seu resumo, entre outras informações que achar relevantes, o motivo de a CCDF da distribuição de pareto ter a forma que tem quando ambos os eixos estão em escala logarítmica."
      ]
    },
    {
      "cell_type": "code",
      "metadata": {
        "id": "D_m60gAY5PAI"
      },
      "source": [
        ""
      ],
      "execution_count": null,
      "outputs": []
    }
  ]
}